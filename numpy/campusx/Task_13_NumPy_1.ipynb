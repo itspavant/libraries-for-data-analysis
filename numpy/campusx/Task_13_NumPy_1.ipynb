{
  "nbformat": 4,
  "nbformat_minor": 0,
  "metadata": {
    "colab": {
      "provenance": []
    },
    "kernelspec": {
      "name": "python3",
      "display_name": "Python 3"
    },
    "language_info": {
      "name": "python"
    }
  },
  "cells": [
    {
      "cell_type": "markdown",
      "source": [
        "**Note: In Data Science googling is a very important skill. If you find some difficulties to solve the problem, google it and try to find some clues to solve.**"
      ],
      "metadata": {
        "id": "6WdKdPGx-tnY"
      }
    },
    {
      "cell_type": "code",
      "source": [
        "import numpy as np"
      ],
      "metadata": {
        "id": "-J4F1ysN4mLk"
      },
      "execution_count": 126,
      "outputs": []
    },
    {
      "cell_type": "markdown",
      "source": [
        "###`Q-1` Create a null vector of size 10 but the fifth value which is 1.\n",
        "\n"
      ],
      "metadata": {
        "id": "a_K8IH-C6HDK"
      }
    },
    {
      "cell_type": "code",
      "source": [
        "#Code here\n",
        "a = np.nan * np.empty(10)\n",
        "a[4] = 1\n",
        "a"
      ],
      "metadata": {
        "id": "sTF03KsZ6QUI",
        "outputId": "2cae7b1a-e308-4889-9868-7b5ad3ad6797",
        "colab": {
          "base_uri": "https://localhost:8080/"
        }
      },
      "execution_count": 130,
      "outputs": [
        {
          "output_type": "execute_result",
          "data": {
            "text/plain": [
              "array([nan, nan, nan, nan,  1., nan, nan, nan, nan, nan])"
            ]
          },
          "metadata": {},
          "execution_count": 130
        }
      ]
    },
    {
      "cell_type": "markdown",
      "source": [
        "###`Q-2` Ask user to input two numbers a, b. Write a program to generate a random array of shape (a, b) and print the array and avg of the array."
      ],
      "metadata": {
        "id": "TEiG25rS6S1i"
      }
    },
    {
      "cell_type": "code",
      "source": [
        "#Code here\n",
        "a = int(input(\"a: \"))\n",
        "b = int(input(\"b: \"))\n",
        "a1 = np.random.random((3, 4))\n",
        "print(a1)\n",
        "print(a1.mean())"
      ],
      "metadata": {
        "id": "ihwn4oOH6Vh7",
        "outputId": "d7078077-e323-4949-ba70-9335dbd5c6e1",
        "colab": {
          "base_uri": "https://localhost:8080/"
        }
      },
      "execution_count": 6,
      "outputs": [
        {
          "output_type": "stream",
          "name": "stdout",
          "text": [
            "a: 3\n",
            "b: 4\n",
            "[[0.49354653 0.67260527 0.46255418 0.63421469]\n",
            " [0.01635758 0.82746878 0.40787152 0.22408484]\n",
            " [0.38891372 0.57055477 0.91175979 0.13019401]]\n",
            "0.4783438058019411\n"
          ]
        }
      ]
    },
    {
      "cell_type": "markdown",
      "source": [
        "###`Q-3`Write a function to create a 2d array with 1 on the border and 0 inside. Take 2-D array shape as (a,b) as parameter to function.\n",
        "\n",
        "Eg.-\n",
        "```\n",
        "[[1,1,1,1],\n",
        "[1,0,0,1],\n",
        "[1,0,0,1],\n",
        "[1,1,1,1]]\n",
        "```"
      ],
      "metadata": {
        "id": "2iEeybS06ZSq"
      }
    },
    {
      "cell_type": "code",
      "source": [
        "def create_2d(a, b):\n",
        "  shape = a, b\n",
        "\n",
        "  rows, cols = a, b\n",
        "  if rows <=0 or cols <=0:\n",
        "    return np.array([])\n",
        "\n",
        "  elif rows ==1 and cols == 1:\n",
        "    return np.ones((1, 1))\n",
        "\n",
        "  arr = np.ones(shape)\n",
        "\n",
        "  if rows >2 and cols >2:\n",
        "    arr[1:-1, 1:-1] = 0\n",
        "\n",
        "  return arr.astype(np.int32)\n",
        "\n",
        "create_2d(2, 1)"
      ],
      "metadata": {
        "id": "gEKndkDU6ZSs",
        "outputId": "752d87e8-baea-4575-cabf-66df95060538",
        "colab": {
          "base_uri": "https://localhost:8080/"
        }
      },
      "execution_count": 25,
      "outputs": [
        {
          "output_type": "execute_result",
          "data": {
            "text/plain": [
              "array([[1],\n",
              "       [1]], dtype=int32)"
            ]
          },
          "metadata": {},
          "execution_count": 25
        }
      ]
    },
    {
      "cell_type": "markdown",
      "source": [
        "###`Q-4` Create a vector of size 10 with values ranging from 0 to 1, both excluded.\n"
      ],
      "metadata": {
        "id": "QRJicQ8j6ZlE"
      }
    },
    {
      "cell_type": "code",
      "source": [
        "#Code here\n",
        "a2 = np.random.random(10) # But there is a chance to get 0 in this, hence, not recommended\n",
        "a2 = np.linspace(0, 1, 12)[1: -1] # Guarantees 0 and 1 never appears\n",
        "a2"
      ],
      "metadata": {
        "id": "eC4XLhDq6ZlF",
        "outputId": "19898f95-c190-4680-84f2-fae8840c860c",
        "colab": {
          "base_uri": "https://localhost:8080/"
        }
      },
      "execution_count": 131,
      "outputs": [
        {
          "output_type": "execute_result",
          "data": {
            "text/plain": [
              "array([0.09090909, 0.18181818, 0.27272727, 0.36363636, 0.45454545,\n",
              "       0.54545455, 0.63636364, 0.72727273, 0.81818182, 0.90909091])"
            ]
          },
          "metadata": {},
          "execution_count": 131
        }
      ]
    },
    {
      "cell_type": "markdown",
      "source": [
        "###`Q-5` Can you create a identity mattrix of shape (3,4). If yes write code for it."
      ],
      "metadata": {
        "id": "vb4jK4yQ6Zs2"
      }
    },
    {
      "cell_type": "code",
      "source": [
        "#Code here\n",
        "np.eye(3, 4) # But this is not a identity matrix by definition of identity matrix\n",
        "# hence, cannot do 3x4, but can do 3x3 identity matrix\n",
        "np.eye(3)\n",
        "np.identity(3)"
      ],
      "metadata": {
        "id": "DTV_AbMS6Zs4",
        "outputId": "88e6cd23-b277-403d-fda7-895cb2d690cc",
        "colab": {
          "base_uri": "https://localhost:8080/"
        }
      },
      "execution_count": 132,
      "outputs": [
        {
          "output_type": "execute_result",
          "data": {
            "text/plain": [
              "array([[1., 0., 0.],\n",
              "       [0., 1., 0.],\n",
              "       [0., 0., 1.]])"
            ]
          },
          "metadata": {},
          "execution_count": 132
        }
      ]
    },
    {
      "cell_type": "markdown",
      "source": [
        "###`Q-6:` Create a 5x5 matrix with row values ranging from 0 to 4."
      ],
      "metadata": {
        "id": "QtjAFm5PEntK"
      }
    },
    {
      "cell_type": "code",
      "source": [
        "#Code here\n",
        "ar3 = np.random.randint(0, 5, 25).reshape((5, 5))\n",
        "print(ar3)\n",
        "# if you want row rom 0 to 4, then:\n",
        "ar4 = np.zeros((5, 5))\n",
        "ar4 += np.arange(5)\n",
        "print(ar4)"
      ],
      "metadata": {
        "id": "z2WGxRjvEuRS",
        "outputId": "554b397c-6155-4ed0-ad2a-25a92603bb04",
        "colab": {
          "base_uri": "https://localhost:8080/"
        }
      },
      "execution_count": 136,
      "outputs": [
        {
          "output_type": "stream",
          "name": "stdout",
          "text": [
            "[[0 2 2 0 1]\n",
            " [3 1 2 4 4]\n",
            " [0 2 4 4 3]\n",
            " [4 0 4 0 2]\n",
            " [1 4 0 0 1]]\n",
            "[[0. 1. 2. 3. 4.]\n",
            " [0. 1. 2. 3. 4.]\n",
            " [0. 1. 2. 3. 4.]\n",
            " [0. 1. 2. 3. 4.]\n",
            " [0. 1. 2. 3. 4.]]\n"
          ]
        }
      ]
    },
    {
      "cell_type": "markdown",
      "source": [
        "###`Q-7:`  Consider a random integer (in range 1 to 100) vector with shape `(10,2)` representing coordinates, and coordinates of a point as array is given. Create an array of distance of each point in the random vectros from the given point. Distance array should be interger type.\n",
        "\n",
        "```\n",
        "point = np.array([2,3])\n",
        "```\n"
      ],
      "metadata": {
        "id": "KPpvxKjVHnyx"
      }
    },
    {
      "cell_type": "code",
      "source": [
        "coordinates = np.random.randint(1, 100, (10, 2))\n",
        "point = np.array([2, 3])\n",
        "diff = ((coordinates - point)**2)\n",
        "dist = np.sqrt(np.sum(diff, axis=1)).astype(int)\n",
        "dist"
      ],
      "metadata": {
        "id": "X7KGnWLNIM6f",
        "outputId": "29181eba-3152-4f98-95ac-928a42145efe",
        "colab": {
          "base_uri": "https://localhost:8080/"
        }
      },
      "execution_count": 138,
      "outputs": [
        {
          "output_type": "execute_result",
          "data": {
            "text/plain": [
              "array([117,  56,  50,  72,  43,  13,  96,  70, 115,  97])"
            ]
          },
          "metadata": {},
          "execution_count": 138
        }
      ]
    },
    {
      "cell_type": "markdown",
      "source": [
        "###`Q-8:` Consider a (6,7,8) shape array, what is the index (x,y,z) of the 100th element?"
      ],
      "metadata": {
        "id": "tajOFJlCDwTr"
      }
    },
    {
      "cell_type": "code",
      "source": [
        "#Code here\n",
        "print(np.unravel_index(99, (6, 7, 8)))"
      ],
      "metadata": {
        "id": "qH4oxvs0D3Ra",
        "outputId": "f99dec1f-730d-4cfb-c28e-91c828a97f03",
        "colab": {
          "base_uri": "https://localhost:8080/"
        }
      },
      "execution_count": 140,
      "outputs": [
        {
          "output_type": "stream",
          "name": "stdout",
          "text": [
            "(np.int64(1), np.int64(5), np.int64(3))\n"
          ]
        }
      ]
    },
    {
      "cell_type": "markdown",
      "source": [
        "### `Q-9:` Arrays\n",
        "\n",
        "You are given a space separated list of numbers. Your task is to print a reversed NumPy array with the element type float.\n",
        "\n"
      ],
      "metadata": {
        "id": "9LxBAbT2Pw33"
      }
    },
    {
      "cell_type": "markdown",
      "source": [
        "**Input Format:**\n",
        "\n",
        "A single line of input containing space separated numbers.\n",
        "\n",
        "**Output Format:**\n",
        "\n",
        "Print the reverse NumPy array with type float.\n",
        "\n",
        "**Example 1:**\n",
        "\n",
        "Input:\n",
        "\n",
        "```bash\n",
        "1 2 3 4 -8 -10\n",
        "```\n",
        "\n",
        "Output:\n",
        "\n",
        "```bash\n",
        "[-10.  -8.   4.   3.   2.   1.]\n",
        "```"
      ],
      "metadata": {
        "id": "JJpqVms2Nq7L"
      }
    },
    {
      "cell_type": "code",
      "source": [
        "a = input().strip().split()\n",
        "a = np.array(a[::-1],dtype=np.float32)\n",
        "a"
      ],
      "metadata": {
        "id": "7iQyg6ChNl3j",
        "outputId": "0ccc63ea-17d9-44ac-9cb3-36b75e085c31",
        "colab": {
          "base_uri": "https://localhost:8080/"
        }
      },
      "execution_count": 143,
      "outputs": [
        {
          "name": "stdout",
          "output_type": "stream",
          "text": [
            "1 2 3 4 -8 -10\n"
          ]
        },
        {
          "output_type": "execute_result",
          "data": {
            "text/plain": [
              "array([-10.,  -8.,   4.,   3.,   2.,   1.], dtype=float32)"
            ]
          },
          "metadata": {},
          "execution_count": 143
        }
      ]
    },
    {
      "cell_type": "markdown",
      "source": [
        "### `Q-10:` Elements count\n",
        "\n",
        "Count the number of elements of a numpy array.\n",
        "\n"
      ],
      "metadata": {
        "id": "TPxD7jM8Sjz9"
      }
    },
    {
      "cell_type": "markdown",
      "source": [
        "**Example 1:**\n",
        "\n",
        "Input:\n",
        "```bash\n",
        "np.array([])\n",
        "```\n",
        "\n",
        "Output:\n",
        "```bash\n",
        "elements_count :  0\n",
        "```\n",
        "\n",
        "**Example 2:**\n",
        "\n",
        "Input:\n",
        "```bash\n",
        "np.array([1, 2])\n",
        "```\n",
        "\n",
        "Output:\n",
        "```bash\n",
        "elements_count :  2\n",
        "```"
      ],
      "metadata": {
        "id": "oHTiTz_jNkAU"
      }
    },
    {
      "cell_type": "code",
      "source": [
        "#Code here\n",
        "inp = eval(input())\n",
        "inp.size"
      ],
      "metadata": {
        "id": "RG0H2I-TNeGN",
        "outputId": "d77fd5f3-96bb-4eb9-b606-23299eab537c",
        "colab": {
          "base_uri": "https://localhost:8080/"
        }
      },
      "execution_count": 62,
      "outputs": [
        {
          "name": "stdout",
          "output_type": "stream",
          "text": [
            "np.array([])\n"
          ]
        },
        {
          "output_type": "execute_result",
          "data": {
            "text/plain": [
              "0"
            ]
          },
          "metadata": {},
          "execution_count": 62
        }
      ]
    },
    {
      "cell_type": "markdown",
      "source": [
        "### `Q-11:` Softmax function\n",
        "\n",
        "Create a Python function to calculate the Softmax of the given numpy 1D array. The function only accepts the numpy 1D array, otherwise raise error.\n",
        "\n",
        "$$\\Large \\sigma(\\vec z)_i = \\frac{e^{z_i}}{\\sum_{j=i}^{K}{e^{z_j}}}$$\n",
        "\n",
        "https://en.wikipedia.org/wiki/Softmax_function\n",
        "\n"
      ],
      "metadata": {
        "id": "pwgPz-3l5ic5"
      }
    },
    {
      "cell_type": "markdown",
      "source": [
        "**Example 1:**\n",
        "\n",
        "Input:\n",
        "```bash\n",
        "[86.03331084 37.7285648  48.64908087 87.16563062 38.40852563 37.20006318]\n",
        "```\n",
        "\n",
        "Output:\n",
        "```bash\n",
        "[2.43733249e-01, 2.56112115e-22, 1.41628284e-17, 7.56266751e-01,\n",
        "       5.05514197e-22, 1.50974911e-22]\n",
        "```\n",
        "\n",
        "**Example 2:**\n",
        "\n",
        "Input:\n",
        "```bash\n",
        "[33.17344305 45.61961654 82.05405781 80.9647098  68.82830233 91.52064278]\n",
        "```\n",
        "\n",
        "Output:\n",
        "```bash\n",
        "[4.57181035e-26, 1.16249923e-20, 7.73872596e-05, 2.60358426e-05,\n",
        "       1.39571531e-10, 9.99896577e-01]\n",
        "```"
      ],
      "metadata": {
        "id": "eZ3WJt6UM1ul"
      }
    },
    {
      "cell_type": "code",
      "source": [
        "#Code here\n",
        "def softmax(arr):\n",
        "\n",
        "  if type(arr) != np.ndarray:\n",
        "    raise TypeError(\"Requires Numpy Array\")\n",
        "  elif arr.ndim >1:\n",
        "    raise TypeError(\"Require a 1D Array\")\n",
        "\n",
        "  sum = np.sum(np.exp(arr))\n",
        "  return np.exp(arr)/sum\n",
        "\n",
        "softmax(np.array([86.03331084, 37.7285648  ,48.64908087, 87.16563062, 38.40852563, 37.20006318]))"
      ],
      "metadata": {
        "id": "VNzj05lkNaNi",
        "outputId": "744acd28-91f9-4d58-fc99-d7c1509a715e",
        "colab": {
          "base_uri": "https://localhost:8080/"
        }
      },
      "execution_count": 148,
      "outputs": [
        {
          "output_type": "execute_result",
          "data": {
            "text/plain": [
              "array([2.43733248e-01, 2.56112114e-22, 1.41628283e-17, 7.56266752e-01,\n",
              "       5.05514197e-22, 1.50974911e-22])"
            ]
          },
          "metadata": {},
          "execution_count": 148
        }
      ]
    },
    {
      "cell_type": "markdown",
      "source": [
        "### `Q-12:` Vertical stack\n",
        "\n",
        "Write a python function that accepts infinite number of numpy arrays and do the vertical stack to them. Then return that new array as result. The function only accepts the numpy array, otherwise raise error.\n",
        "\n"
      ],
      "metadata": {
        "id": "k4JWSwWu_HXg"
      }
    },
    {
      "cell_type": "markdown",
      "source": [
        "**Example 1:**\n",
        "\n",
        "Input:\n",
        "```bash\n",
        "a= [[0 1 2 3 4]\n",
        " [5 6 7 8 9]]\n",
        "\n",
        "b= [[1 1 1 1 1]\n",
        " [1 1 1 1 1]]\n",
        "```\n",
        "\n",
        "Output:\n",
        "\n",
        "```bash\n",
        "[[0 1 2 3 4]\n",
        " [5 6 7 8 9]\n",
        " [1 1 1 1 1]\n",
        " [1 1 1 1 1]]\n",
        "```\n",
        "\n",
        "**Example 2:**\n",
        "\n",
        "Input:\n",
        "```bash\n",
        "a= [[0 1 2 3 4]\n",
        " [5 6 7 8 9]]\n",
        "\n",
        "b= [[1 1 1 1 1]\n",
        " [1 1 1 1 1]]\n",
        "\n",
        "c= [[0.10117373 0.1677244  0.73764059 0.83166097 0.48985695]\n",
        " [0.44581567 0.13502419 0.55692335 0.16479622 0.61193593]]\n",
        "```\n",
        "\n",
        "Output:\n",
        "```bash\n",
        "[[0.         1.         2.         3.         4.        ]\n",
        " [5.         6.         7.         8.         9.        ]\n",
        " [1.         1.         1.         1.         1.        ]\n",
        " [1.         1.         1.         1.         1.        ]\n",
        " [0.10117373 0.1677244  0.73764059 0.83166097 0.48985695]\n",
        " [0.44581567 0.13502419 0.55692335 0.16479622 0.61193593]]\n",
        "```"
      ],
      "metadata": {
        "id": "XhhV3mraNAWr"
      }
    },
    {
      "cell_type": "code",
      "source": [
        "#Code here\n",
        "\n",
        "def vstack_arrays(*args):\n",
        "  for arg in args:\n",
        "    if not isinstance(arg, np.ndarray):\n",
        "      print(f\"Not possible as {arg} is not numpy array\")\n",
        "      return\n",
        "  return np.vstack(args)\n",
        "\n",
        "a= np.array([[0, 1, 2, 3, 4],[5, 6, 7, 8, 9]])\n",
        "\n",
        "b= np.array([[1, 1, 1, 1, 1], [1, 1, 1, 1, 1]])\n",
        "\n",
        "vstack_arrays(a, b)\n"
      ],
      "metadata": {
        "id": "dhtnbSj6NP8z",
        "outputId": "4abb7c87-d6e1-4ba0-f162-4c65c8145b64",
        "colab": {
          "base_uri": "https://localhost:8080/"
        }
      },
      "execution_count": 68,
      "outputs": [
        {
          "output_type": "execute_result",
          "data": {
            "text/plain": [
              "array([[0, 1, 2, 3, 4],\n",
              "       [5, 6, 7, 8, 9],\n",
              "       [1, 1, 1, 1, 1],\n",
              "       [1, 1, 1, 1, 1]])"
            ]
          },
          "metadata": {},
          "execution_count": 68
        }
      ]
    },
    {
      "cell_type": "markdown",
      "source": [
        "### `Q-13:` Dates\n",
        "\n",
        "Create a python function named **date_array** that accepts two dates as string format and returns a numpy array of dates between those 2 dates. The function only accept 2 strings, otherwise raise error. The date format should be like this only: `2022-12-6`. The end date should be included and for simplicity, choose dates from a same year.\n",
        "\n"
      ],
      "metadata": {
        "id": "3mk8T6CuC2DP"
      }
    },
    {
      "cell_type": "markdown",
      "source": [
        "**Example 1:**\n",
        "\n",
        "Input:\n",
        "```bash\n",
        "date_array(start = '2020-09-15', end = '2020-09-25')\n",
        "```\n",
        "\n",
        "Output:\n",
        "```bash\n",
        "['2020-09-15', '2020-09-16', '2020-09-17', '2020-09-18',\n",
        " '2020-09-19', '2020-09-20', '2020-09-21', '2020-09-22',\n",
        " '2020-09-23', '2020-09-24', '2020-09-25']\n",
        "```\n",
        "\n",
        "**Example 2:**\n",
        "\n",
        "Input:\n",
        "```bash\n",
        "date_array(start = '2022-12-01', end = '2022-12-06')\n",
        "```\n",
        "\n",
        "Output:\n",
        "```bash\n",
        "['2022-12-01', '2022-12-02', '2022-12-03', '2022-12-04', '2022-12-05', '2022-12-06']\n",
        "```\n",
        "\n",
        "**Example 3:**\n",
        "\n",
        "Input:\n",
        "```bash\n",
        "date_array(start = '2020-11-25', end = '2020-11-30')\n",
        "```\n",
        "\n",
        "Output:\n",
        "```bash\n",
        "['2020-11-25', '2020-11-26', '2020-11-27', '2020-11-28',\n",
        " '2020-11-29', '2020-11-30']\n",
        "```"
      ],
      "metadata": {
        "id": "E3IgjnTTNFEk"
      }
    },
    {
      "cell_type": "code",
      "source": [
        "def date_array(start, end):\n",
        "  if not isinstance(start, str) or not isinstance(end, str):\n",
        "    raise TypeError\n",
        "\n",
        "  months_days = {\n",
        "    1: 31,\n",
        "    2: 28,\n",
        "    3: 31,\n",
        "    4: 30,\n",
        "    5: 31,\n",
        "    6: 30,\n",
        "    7: 31,\n",
        "    8: 31,\n",
        "    9: 30,\n",
        "    10: 31,\n",
        "    11: 30,\n",
        "    12: 31\n",
        "  }\n",
        "\n",
        "  end_y, end_m, end_d = [int(i) for i in end.split('-')]\n",
        "  if end_d == months_days[end_m]:\n",
        "    end_d = 1\n",
        "    end_m += 1\n",
        "  else:\n",
        "    end_d += 1\n",
        "  if end_m >12:\n",
        "    end_y += 1\n",
        "    end_m = 1\n",
        "\n",
        "  end_m = f\"0{end_m}\" if end_m <10 else f\"{end_m}\"\n",
        "  end_d = f\"0{end_d}\" if end_d <10 else f\"{end_d}\"\n",
        "  final_end = '-'.join([str(end_y), end_m, end_d])\n",
        "\n",
        "  return np.arange(np.datetime64(start), np.datetime64(final_end), dtype='datetime64[D]')\n",
        "date_array(start = '2022-11-01', end = '2022-12-31')\n",
        "\n"
      ],
      "metadata": {
        "id": "Yj5PBfQQNTnL",
        "outputId": "06cafc39-81fd-4908-c246-2b217c0d6cce",
        "colab": {
          "base_uri": "https://localhost:8080/"
        }
      },
      "execution_count": 158,
      "outputs": [
        {
          "output_type": "execute_result",
          "data": {
            "text/plain": [
              "array(['2022-11-01', '2022-11-02', '2022-11-03', '2022-11-04',\n",
              "       '2022-11-05', '2022-11-06', '2022-11-07', '2022-11-08',\n",
              "       '2022-11-09', '2022-11-10', '2022-11-11', '2022-11-12',\n",
              "       '2022-11-13', '2022-11-14', '2022-11-15', '2022-11-16',\n",
              "       '2022-11-17', '2022-11-18', '2022-11-19', '2022-11-20',\n",
              "       '2022-11-21', '2022-11-22', '2022-11-23', '2022-11-24',\n",
              "       '2022-11-25', '2022-11-26', '2022-11-27', '2022-11-28',\n",
              "       '2022-11-29', '2022-11-30', '2022-12-01', '2022-12-02',\n",
              "       '2022-12-03', '2022-12-04', '2022-12-05', '2022-12-06',\n",
              "       '2022-12-07', '2022-12-08', '2022-12-09', '2022-12-10',\n",
              "       '2022-12-11', '2022-12-12', '2022-12-13', '2022-12-14',\n",
              "       '2022-12-15', '2022-12-16', '2022-12-17', '2022-12-18',\n",
              "       '2022-12-19', '2022-12-20', '2022-12-21', '2022-12-22',\n",
              "       '2022-12-23', '2022-12-24', '2022-12-25', '2022-12-26',\n",
              "       '2022-12-27', '2022-12-28', '2022-12-29', '2022-12-30',\n",
              "       '2022-12-31'], dtype='datetime64[D]')"
            ]
          },
          "metadata": {},
          "execution_count": 158
        }
      ]
    },
    {
      "cell_type": "markdown",
      "source": [
        "###`Q-14:` Subtract the mean of each row from a matrix."
      ],
      "metadata": {
        "id": "bcEp0wTWQijK"
      }
    },
    {
      "cell_type": "code",
      "source": [
        "#code here\n",
        "arr = np.arange(12).reshape((3, 4))\n",
        "means = np.mean(arr, axis=1, keepdims = True)\n",
        "arr-means"
      ],
      "metadata": {
        "id": "rpILVGcgQzMo",
        "outputId": "9630ef78-86fa-4948-f662-d226a0697d74",
        "colab": {
          "base_uri": "https://localhost:8080/"
        }
      },
      "execution_count": 44,
      "outputs": [
        {
          "output_type": "execute_result",
          "data": {
            "text/plain": [
              "array([[-1.5, -0.5,  0.5,  1.5],\n",
              "       [-1.5, -0.5,  0.5,  1.5],\n",
              "       [-1.5, -0.5,  0.5,  1.5]])"
            ]
          },
          "metadata": {},
          "execution_count": 44
        }
      ]
    },
    {
      "cell_type": "markdown",
      "source": [
        "###`Q-15:` Swap column-1 of array with column-2 in the array."
      ],
      "metadata": {
        "id": "A-dMVlPPSBTT"
      }
    },
    {
      "cell_type": "code",
      "source": [
        "#Code here\n",
        "arr = np.arange(12).reshape((3,4))\n",
        "# print(arr)\n",
        "# temp = np.array(arr[:, 1])\n",
        "# arr[:, 1] = arr[:, 0]\n",
        "# arr[:, 0] = temp\n",
        "# print(arr)\n",
        "\n",
        "# much much simpler way:\n",
        "arr[:, [1, 0]+list(range(2, arr.shape[-1]))]"
      ],
      "metadata": {
        "id": "3RtngM9-Q6S7",
        "outputId": "cdbbb1c5-47fb-4530-9818-12451f14214b",
        "colab": {
          "base_uri": "https://localhost:8080/"
        }
      },
      "execution_count": 164,
      "outputs": [
        {
          "output_type": "execute_result",
          "data": {
            "text/plain": [
              "array([[ 1,  0,  2,  3],\n",
              "       [ 5,  4,  6,  7],\n",
              "       [ 9,  8, 10, 11]])"
            ]
          },
          "metadata": {},
          "execution_count": 164
        }
      ]
    },
    {
      "cell_type": "code",
      "source": [
        "print(arr)\n",
        "arr[:, [0,1]] = arr[:, [1, 0]]\n",
        "arr"
      ],
      "metadata": {
        "id": "ueoMV_LlSnGU",
        "outputId": "38c0046f-0575-42be-aa09-4e308320d5c1",
        "colab": {
          "base_uri": "https://localhost:8080/"
        }
      },
      "execution_count": 165,
      "outputs": [
        {
          "output_type": "stream",
          "name": "stdout",
          "text": [
            "[[ 0  1  2  3]\n",
            " [ 4  5  6  7]\n",
            " [ 8  9 10 11]]\n"
          ]
        },
        {
          "output_type": "execute_result",
          "data": {
            "text/plain": [
              "array([[ 1,  0,  2,  3],\n",
              "       [ 5,  4,  6,  7],\n",
              "       [ 9,  8, 10, 11]])"
            ]
          },
          "metadata": {},
          "execution_count": 165
        }
      ]
    },
    {
      "cell_type": "markdown",
      "source": [
        "###`Q-16:` Replace odd elements in arrays with -1."
      ],
      "metadata": {
        "id": "cB4VMexvS6Zi"
      }
    },
    {
      "cell_type": "code",
      "source": [
        "arr = np.arange(12).reshape(3, 4)\n",
        "arr[arr %2 !=0] = -1\n",
        "arr"
      ],
      "metadata": {
        "id": "Bt83nXEVS5O4",
        "outputId": "b39239d9-5bba-4f9e-a0c5-32cac4c3e1f2",
        "colab": {
          "base_uri": "https://localhost:8080/"
        }
      },
      "execution_count": 167,
      "outputs": [
        {
          "output_type": "execute_result",
          "data": {
            "text/plain": [
              "array([[ 0, -1,  2, -1],\n",
              "       [ 4, -1,  6, -1],\n",
              "       [ 8, -1, 10, -1]])"
            ]
          },
          "metadata": {},
          "execution_count": 167
        }
      ]
    },
    {
      "cell_type": "code",
      "source": [
        "ar1 = np.arange(12).reshape(3, 4)\n",
        "np.vstack((ar1, np.arange(13, 25).reshape(3, 4)))\n",
        "ar1"
      ],
      "metadata": {
        "id": "1ZlvMaXLVyoW",
        "outputId": "3baf1285-0115-48c8-d776-f68f0a3a6e19",
        "colab": {
          "base_uri": "https://localhost:8080/"
        }
      },
      "execution_count": 84,
      "outputs": [
        {
          "output_type": "execute_result",
          "data": {
            "text/plain": [
              "array([[ 0,  1,  2,  3],\n",
              "       [ 4,  5,  6,  7],\n",
              "       [ 8,  9, 10, 11]])"
            ]
          },
          "metadata": {},
          "execution_count": 84
        }
      ]
    },
    {
      "cell_type": "markdown",
      "source": [
        "###`Q-17:` Given two arrays of same shape make an array of max out of two arrays. (Numpy way)\n",
        "```\n",
        "a=np.array([6,3,1,5,8])\n",
        "b=np.array([3,2,1,7,2])\n",
        "\n",
        "Result-> [6 3 1 7 8]\n",
        "```"
      ],
      "metadata": {
        "id": "kf_qvmBxWIT_"
      }
    },
    {
      "cell_type": "code",
      "source": [
        "#Code here\n",
        "a=np.array([6,3,1,5,8])\n",
        "b=np.array([3,2,1,7,2])\n",
        "\n",
        "\n",
        "a[b>a] = b[b>a]\n",
        "a"
      ],
      "metadata": {
        "id": "TB9ZvF-EZSfu",
        "outputId": "5759affa-bfe5-426e-f88e-109cec99530e",
        "colab": {
          "base_uri": "https://localhost:8080/"
        }
      },
      "execution_count": 176,
      "outputs": [
        {
          "output_type": "execute_result",
          "data": {
            "text/plain": [
              "array([6, 3, 1, 7, 8])"
            ]
          },
          "metadata": {},
          "execution_count": 176
        }
      ]
    },
    {
      "cell_type": "code",
      "source": [],
      "metadata": {
        "id": "D7ad-A6jZzCL"
      },
      "execution_count": null,
      "outputs": []
    },
    {
      "cell_type": "markdown",
      "source": [
        "###`Q-18` Answer below asked questions on given array:\n",
        "1. Fetch Every alternate column of the array\n",
        "2. Normalise the given array\n",
        "\n",
        "https://en.wikipedia.org/wiki/Normalization_(statistics)\n",
        "\n",
        "There are different form of normalisation for this question use below formula.\n",
        "\n",
        "$$\\large X_{normalized} = \\frac{X - X_{min}}{X_{max} - X_{min}}$$\n",
        "\n",
        "```python\n",
        "arr1=np.random.randint(low=1, high=10000, size=40).reshape(8,5)\n",
        "```\n"
      ],
      "metadata": {
        "id": "iOQLUIeGc3zA"
      }
    },
    {
      "cell_type": "code",
      "source": [
        "# Given\n",
        "arr1=np.random.randint(low=1, high=10000, size=40).reshape(8,5)\n",
        "arr1"
      ],
      "metadata": {
        "colab": {
          "base_uri": "https://localhost:8080/"
        },
        "id": "vjSm18k3d_1p",
        "outputId": "27407e16-0465-41fa-e339-ee12682dbc31"
      },
      "execution_count": 178,
      "outputs": [
        {
          "output_type": "execute_result",
          "data": {
            "text/plain": [
              "array([[1203, 6281, 4025, 9347,   87],\n",
              "       [7563,  419, 9212, 9125, 1658],\n",
              "       [3107,  464,  303, 6404, 6593],\n",
              "       [2363, 8499, 7682, 2632, 2613],\n",
              "       [1239, 8551, 8029,  642,  370],\n",
              "       [4936, 3999, 9607, 4070, 6397],\n",
              "       [6458, 3754, 2493, 8462, 2868],\n",
              "       [6888, 6623, 2323, 3049, 5450]])"
            ]
          },
          "metadata": {},
          "execution_count": 178
        }
      ]
    },
    {
      "cell_type": "code",
      "source": [
        "#Code here\n",
        "arr1[:, ::2]\n"
      ],
      "metadata": {
        "id": "d7u8DB47eBfQ",
        "outputId": "2fd7c2a4-41eb-4332-f024-1d8f4e7a3197",
        "colab": {
          "base_uri": "https://localhost:8080/"
        }
      },
      "execution_count": 180,
      "outputs": [
        {
          "output_type": "execute_result",
          "data": {
            "text/plain": [
              "array([[1203, 4025,   87],\n",
              "       [7563, 9212, 1658],\n",
              "       [3107,  303, 6593],\n",
              "       [2363, 7682, 2613],\n",
              "       [1239, 8029,  370],\n",
              "       [4936, 9607, 6397],\n",
              "       [6458, 2493, 2868],\n",
              "       [6888, 2323, 5450]])"
            ]
          },
          "metadata": {},
          "execution_count": 180
        }
      ]
    },
    {
      "cell_type": "code",
      "source": [
        "(arr1 - arr1.min())/(arr1.max()-arr1.min())"
      ],
      "metadata": {
        "id": "1_fiIoZtJ-Od",
        "outputId": "4f145c96-f325-4968-9d61-1d1b5e263611",
        "colab": {
          "base_uri": "https://localhost:8080/"
        }
      },
      "execution_count": 181,
      "outputs": [
        {
          "output_type": "execute_result",
          "data": {
            "text/plain": [
              "array([[0.11722689, 0.65063025, 0.41365546, 0.97268908, 0.        ],\n",
              "       [0.78529412, 0.03487395, 0.9585084 , 0.94936975, 0.16502101],\n",
              "       [0.31722689, 0.03960084, 0.02268908, 0.66355042, 0.68340336],\n",
              "       [0.23907563, 0.88361345, 0.79779412, 0.26733193, 0.26533613],\n",
              "       [0.1210084 , 0.88907563, 0.8342437 , 0.05829832, 0.02972689],\n",
              "       [0.50934874, 0.41092437, 1.        , 0.41838235, 0.66281513],\n",
              "       [0.66922269, 0.38518908, 0.25273109, 0.87972689, 0.29212185],\n",
              "       [0.71439076, 0.68655462, 0.23487395, 0.31113445, 0.56334034]])"
            ]
          },
          "metadata": {},
          "execution_count": 181
        }
      ]
    },
    {
      "cell_type": "markdown",
      "source": [
        "###`Q-19:` Write a function which will accept 2 arguments.\n",
        "First: A 1D numpy array arr\n",
        "\n",
        "Second: An integer n {Please make sure n<=len(arr)}\n",
        "\n",
        "Output: The output should be the nth largest item out of the array\n",
        "```\n",
        "# Example1 : arr=(12,34,40,7,1,0) and n=3, the output should be 12\n",
        "# Example2 : arr=(12,34,40,7,1,0) and n=1, the output should be 40\n",
        "```"
      ],
      "metadata": {
        "id": "jCzsVEKLgGNo"
      }
    },
    {
      "cell_type": "code",
      "source": [
        "#Code here\n",
        "arr = np.array(eval(input()))\n",
        "n = int(input())\n",
        "np.partition(arr, -n)[-3]"
      ],
      "metadata": {
        "id": "J4AzkDk7gXSG",
        "outputId": "77d853ce-d035-46d7-ba19-991aecf0e539",
        "colab": {
          "base_uri": "https://localhost:8080/"
        }
      },
      "execution_count": 116,
      "outputs": [
        {
          "name": "stdout",
          "output_type": "stream",
          "text": [
            "(12,34,40,7,1,0)\n",
            "3\n"
          ]
        },
        {
          "output_type": "execute_result",
          "data": {
            "text/plain": [
              "np.int64(12)"
            ]
          },
          "metadata": {},
          "execution_count": 116
        }
      ]
    },
    {
      "cell_type": "markdown",
      "source": [
        "###`Q-20:` Create the following pattern without hardcoding. Use only numpy functions and the below input array a.\n",
        "```italicized text\n",
        "# Input: a = np.array([1,2,3])\n",
        "# Output: array([1, 1, 1, 2, 2, 2, 3, 3, 3, 1, 2, 3, 1, 2, 3, 1, 2, 3])\n",
        "```"
      ],
      "metadata": {
        "id": "ja0xPCgjhBsg"
      }
    },
    {
      "cell_type": "code",
      "source": [
        "#code here\n",
        "a = np.array([1, 2, 3])\n",
        "np.hstack((np.repeat(a, 3), np.tile(a,3)))\n",
        "\n"
      ],
      "metadata": {
        "id": "CndS8TTNhG0F",
        "outputId": "64c1bbf2-8d36-487d-8b33-594d01c663f7",
        "colab": {
          "base_uri": "https://localhost:8080/"
        }
      },
      "execution_count": 182,
      "outputs": [
        {
          "output_type": "execute_result",
          "data": {
            "text/plain": [
              "array([1, 1, 1, 2, 2, 2, 3, 3, 3, 1, 2, 3, 1, 2, 3, 1, 2, 3])"
            ]
          },
          "metadata": {},
          "execution_count": 182
        }
      ]
    },
    {
      "cell_type": "code",
      "source": [],
      "metadata": {
        "id": "ttbz2VXUefxq"
      },
      "execution_count": null,
      "outputs": []
    }
  ]
}